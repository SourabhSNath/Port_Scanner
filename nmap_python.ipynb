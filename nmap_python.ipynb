{
 "cells": [
  {
   "cell_type": "code",
   "execution_count": 4,
   "metadata": {},
   "outputs": [],
   "source": [
    "import nmap\n",
    "\n",
    "ip = \"192.168.29.190/24\""
   ]
  },
  {
   "cell_type": "code",
   "execution_count": 11,
   "metadata": {},
   "outputs": [
    {
     "data": {
      "text/plain": [
       "{'nmap': {'command_line': 'nmap -oX - -p 23-443 -sV 192.168.29.190/24',\n",
       "  'scaninfo': {'tcp': {'method': 'connect', 'services': '23-443'}},\n",
       "  'scanstats': {'timestr': 'Wed Feb  9 08:52:34 2022',\n",
       "   'elapsed': '35.96',\n",
       "   'uphosts': '4',\n",
       "   'downhosts': '252',\n",
       "   'totalhosts': '256'}},\n",
       " 'scan': {'192.168.29.1': {'hostnames': [{'name': 'reliance.reliance',\n",
       "     'type': 'PTR'}],\n",
       "   'addresses': {'ipv4': '192.168.29.1'},\n",
       "   'vendor': {},\n",
       "   'status': {'state': 'up', 'reason': 'syn-ack'},\n",
       "   'tcp': {80: {'state': 'open',\n",
       "     'reason': 'syn-ack',\n",
       "     'name': 'http',\n",
       "     'product': 'lighttpd',\n",
       "     'version': '',\n",
       "     'extrainfo': '',\n",
       "     'conf': '10',\n",
       "     'cpe': 'cpe:/a:lighttpd:lighttpd'},\n",
       "    443: {'state': 'open',\n",
       "     'reason': 'syn-ack',\n",
       "     'name': 'http',\n",
       "     'product': 'lighttpd',\n",
       "     'version': '',\n",
       "     'extrainfo': '',\n",
       "     'conf': '10',\n",
       "     'cpe': 'cpe:/a:lighttpd:lighttpd'}}},\n",
       "  '192.168.29.90': {'hostnames': [{'name': '', 'type': ''}],\n",
       "   'addresses': {'ipv4': '192.168.29.90'},\n",
       "   'vendor': {},\n",
       "   'status': {'state': 'up', 'reason': 'conn-refused'}},\n",
       "  '192.168.29.190': {'hostnames': [{'name': '', 'type': ''}],\n",
       "   'addresses': {'ipv4': '192.168.29.190'},\n",
       "   'vendor': {},\n",
       "   'status': {'state': 'up', 'reason': 'conn-refused'}},\n",
       "  '192.168.29.193': {'hostnames': [{'name': '', 'type': ''}],\n",
       "   'addresses': {'ipv4': '192.168.29.193'},\n",
       "   'vendor': {},\n",
       "   'status': {'state': 'up', 'reason': 'conn-refused'}}}}"
      ]
     },
     "execution_count": 11,
     "metadata": {},
     "output_type": "execute_result"
    }
   ],
   "source": [
    "nm = nmap.PortScanner()\n",
    "nm.scan(ip, \"23-443\")"
   ]
  },
  {
   "cell_type": "code",
   "execution_count": 6,
   "metadata": {},
   "outputs": [
    {
     "name": "stdout",
     "output_type": "stream",
     "text": [
      "Host: 192.168.29.1 (reliance.reliance)\n",
      "State: up\n",
      "Host: 192.168.29.190 ()\n",
      "State: up\n",
      "Host: 192.168.29.193 ()\n",
      "State: up\n",
      "Host: 192.168.29.90 ()\n",
      "State: up\n"
     ]
    }
   ],
   "source": [
    "for host in nm.all_hosts():\n",
    "    print(\"Host: %s (%s)\" % (host, nm[host].hostname()))\n",
    "    print(\"State: %s\" % nm[host].state())\n",
    "    "
   ]
  },
  {
   "cell_type": "code",
   "execution_count": 12,
   "metadata": {},
   "outputs": [
    {
     "name": "stdout",
     "output_type": "stream",
     "text": [
      "Protocol : tcp\n"
     ]
    }
   ],
   "source": [
    "for host in nm.all_hosts():\n",
    "    for protocol in nm[host].all_protocols():\n",
    "        print(f\"Protocol : {protocol}\")"
   ]
  },
  {
   "cell_type": "code",
   "execution_count": 14,
   "metadata": {},
   "outputs": [
    {
     "name": "stdout",
     "output_type": "stream",
     "text": [
      "Protocol : tcp\n",
      "port: 80\tstate : open\n",
      "port: 443\tstate : open\n"
     ]
    }
   ],
   "source": [
    "for host in nm.all_hosts():\n",
    "    for protocol in nm[host].all_protocols():\n",
    "        print(f\"Protocol : {protocol}\")\n",
    "        ports = nm[host][protocol].keys()\n",
    "        sorted(ports)\n",
    "        for port in ports:\n",
    "            print(f\"port: {port}\\tstate : {nm[host][protocol][port]['state']}\")"
   ]
  }
 ],
 "metadata": {
  "interpreter": {
   "hash": "52522a00c18b558ac094e095be43080c3862e186d9c6575542af3a3a61c22751"
  },
  "kernelspec": {
   "display_name": "Python 3.10.2 ('env': venv)",
   "language": "python",
   "name": "python3"
  },
  "language_info": {
   "codemirror_mode": {
    "name": "ipython",
    "version": 3
   },
   "file_extension": ".py",
   "mimetype": "text/x-python",
   "name": "python",
   "nbconvert_exporter": "python",
   "pygments_lexer": "ipython3",
   "version": "3.10.2"
  },
  "orig_nbformat": 4
 },
 "nbformat": 4,
 "nbformat_minor": 2
}
